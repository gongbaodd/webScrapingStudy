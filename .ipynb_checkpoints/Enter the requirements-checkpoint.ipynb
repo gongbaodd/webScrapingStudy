{
 "cells": [
  {
   "cell_type": "code",
   "execution_count": null,
   "metadata": {},
   "outputs": [],
   "source": [
    "import re\n",
    "from urllib.request import urljoin, urlparse, urlopen\n",
    "import requests\n",
    "\n",
    "def download_page(url):\n",
    "    try:\n",
    "        return requests.get(url).text\n",
    "    except:\n",
    "        print('error in the url', url)\n",
    "\n",
    "def extract_links(page):\n",
    "    if not page:\n",
    "        return []\n",
    "    link_regex = re.compile('<a[^]>]+href=[\"\\'](.*?)[\"\\']', re.IGNORECASE)\n",
    "    return [urljoin(page, link) for link in link_regex.findall(page)]\n",
    "\n",
    "def get_links(page_url):\n",
    "    host = urlparse(page_url)[1]\n",
    "    page = download_page(page_url)\n",
    "    links = extract_links(page)\n",
    "    return [link for link in links if urlparse(link)[1] == host]\n",
    "\n",
    "def depth_first_search(start_url):\n",
    "    from collections import deque\n",
    "    visited = set()\n",
    "    queue = deque()\n",
    "    queue.append(start_url)\n",
    "    while queue:\n",
    "        url = queue.popleft()\n",
    "        if url in visited:\n",
    "            continue\n",
    "        visited.add(url)\n",
    "        for link in get_links(url):\n",
    "            queue.appendleft(link)\n",
    "        print('DFS: ', url)\n",
    "        if len(visited) > 4:\n",
    "            break;\n",
    "    \n",
    "def breadth_first_search(start_url):\n",
    "    from collections import deque\n",
    "    visited = set()\n",
    "    queue = deque()\n",
    "    queue.append(start_url)\n",
    "    while queue:\n",
    "        url = queue.popleft()\n",
    "        if url in visited:\n",
    "            continue\n",
    "        visited.add(url)\n",
    "        queue.extend(get_links(url))\n",
    "        print('BFS: ', url)\n",
    "        if len(visited) > 4:\n",
    "            break;\n",
    "        \n",
    "if __name__ == '__main__':\n",
    "    depth_first_search('https://sina.cn/index/feed?from=touch&Ver=10')\n",
    "    breadth_first_search('https://sina.cn/index/feed?from=touch&Ver=10')\n"
   ]
  },
  {
   "cell_type": "code",
   "execution_count": null,
   "metadata": {},
   "outputs": [],
   "source": []
  },
  {
   "cell_type": "code",
   "execution_count": null,
   "metadata": {},
   "outputs": [],
   "source": [
    "import requests\n",
    "r = requests.get('http://www.baidu.com')\n",
    "if r.status_code == 200:\n",
    "    print(r.text[:250])\n",
    "else:\n",
    "    print(r.status_code)"
   ]
  }
 ],
 "metadata": {
  "kernelspec": {
   "display_name": "Python 3",
   "language": "python",
   "name": "python3"
  },
  "language_info": {
   "codemirror_mode": {
    "name": "ipython",
    "version": 3
   },
   "file_extension": ".py",
   "mimetype": "text/x-python",
   "name": "python",
   "nbconvert_exporter": "python",
   "pygments_lexer": "ipython3",
   "version": "3.8.1"
  }
 },
 "nbformat": 4,
 "nbformat_minor": 2
}
